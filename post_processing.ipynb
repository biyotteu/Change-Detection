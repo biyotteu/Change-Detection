{
 "cells": [
  {
   "cell_type": "code",
   "execution_count": 6,
   "metadata": {},
   "outputs": [],
   "source": [
    "import numpy as np\n",
    "import glob\n",
    "from matplotlib import pyplot as plt\n",
    "from PIL import Image\n",
    "import random\n",
    "import os\n",
    "from tqdm import tqdm\n",
    "import cv2"
   ]
  },
  {
   "cell_type": "code",
   "execution_count": 11,
   "metadata": {},
   "outputs": [
    {
     "name": "stderr",
     "output_type": "stream",
     "text": [
      "100%|██████████| 2338/2338 [01:39<00:00, 23.43it/s]\n"
     ]
    }
   ],
   "source": [
    "# Baseline mask와 BinarySegmentationModel 합치기\n",
    "src_BSM = './BinarySegmentationModel/res/'\n",
    "src_baseline= './BaselineModel/results/pred/SoTa_20221115_021934/mask/'\n",
    "save_path = './res/aggregated_res/'\n",
    "origin_file_path = './test/x/'\n",
    "image_type = '*.png'\n",
    "BSM_paths = glob.glob(src_BSM+image_type)\n",
    "baseline_paths = glob.glob(src_baseline+image_type)\n",
    "\n",
    "for path in tqdm(BSM_paths):\n",
    "    filename = os.path.basename(path)\n",
    "    BSM_image = cv2.imread(path,cv2.IMREAD_GRAYSCALE)\n",
    "    baseline_image = cv2.imread(src_baseline+filename,cv2.IMREAD_GRAYSCALE)\n",
    "\n",
    "    origin_size = cv2.imread(origin_file_path+filename).shape[0]\n",
    "    BSM_image = cv2.resize(BSM_image, [origin_size, origin_size], interpolation=cv2.INTER_NEAREST)\n",
    "\n",
    "    baseline_image_left = baseline_image[:,:origin_size]\n",
    "    baseline_image_right = baseline_image[:,origin_size:]\n",
    "\n",
    "    BSM_image_left = np.array(BSM_image)\n",
    "    BSM_image_right = np.array(BSM_image)\n",
    "    cnt, labels = cv2.connectedComponents(BSM_image_left) #754 754\n",
    "    \n",
    "    #left\n",
    "    for i in range(1,cnt):\n",
    "        tmp_right = baseline_image_right[labels == i]\n",
    "        in1 = 1 in tmp_right\n",
    "        in3 = 3 in tmp_right\n",
    "        tmp_left = baseline_image_left[labels == i]\n",
    "        in2 = 2 in tmp_left\n",
    "\n",
    "        if in1 + in2 + in3 > 1:\n",
    "            now = [(tmp_right == 1).sum(),(tmp_left == 2).sum(),(tmp_right == 3).sum()]\n",
    "            idx = now.index(max(now)) + 1\n",
    "\n",
    "            if(idx in [2]):\n",
    "                BSM_image_left[labels == i] = idx\n",
    "            else:\n",
    "                BSM_image_left[labels == i] = 0\n",
    "\n",
    "        else:\n",
    "            if in2:\n",
    "                BSM_image_left[labels == i] = 2\n",
    "            else:\n",
    "                BSM_image_left[labels == i] = 0\n",
    "\n",
    "    # right\n",
    "    for i in range(1,cnt):\n",
    "        tmp_right = baseline_image_right[labels == i]\n",
    "        in1 = 1 in tmp_right\n",
    "        in3 = 3 in tmp_right\n",
    "        tmp_left = baseline_image_left[labels == i]\n",
    "        in2 = 2 in tmp_left\n",
    "\n",
    "        if in1 + in2 + in3 > 1:\n",
    "            now = [(tmp_right == 1).sum(),(tmp_left == 2).sum(),(tmp_right == 3).sum()]\n",
    "            idx = now.index(max(now)) + 1\n",
    "        \n",
    "            if(idx in [1,3]):\n",
    "                BSM_image_right[labels == i] = idx\n",
    "            else:\n",
    "                BSM_image_right[labels == i] = 0\n",
    "\n",
    "        else:\n",
    "            if in1:\n",
    "                BSM_image_right[labels == i] = 1\n",
    "            elif in2:\n",
    "                BSM_image_right[labels == i] = 0\n",
    "            elif in3:\n",
    "                BSM_image_right[labels == i] = 3\n",
    "            else:\n",
    "                BSM_image_right[labels == i] = 3\n",
    "\n",
    "    BSM_image_final = np.concatenate((BSM_image_left,BSM_image_right),axis=1)\n",
    "    cv2.imwrite(save_path + filename,BSM_image_final)"
   ]
  },
  {
   "cell_type": "code",
   "execution_count": 12,
   "metadata": {},
   "outputs": [
    {
     "name": "stderr",
     "output_type": "stream",
     "text": [
      "100%|██████████| 2338/2338 [00:46<00:00, 50.34it/s]\n"
     ]
    }
   ],
   "source": [
    "# 일정 개수 이하의 라벨은 모두 제거하기\n",
    "import cv2\n",
    "from PIL import Image\n",
    "import numpy as np\n",
    "from tqdm import tqdm\n",
    "\n",
    "save_path = './res/aggregated_res/'\n",
    "save_to_path = './res/final_res/'\n",
    "file_type = '*.png'\n",
    "paths = glob.glob(save_path + file_type)\n",
    "change_list =[]\n",
    "for path in tqdm(paths):\n",
    "    filename = os.path.basename(path)\n",
    "    img = cv2.imread(path, cv2.IMREAD_GRAYSCALE)\n",
    "    img = np.array(img)\n",
    "    thread_hold = 30\n",
    "    for j in range(3):\n",
    "        idx =j+1\n",
    "        if (sum(img[img==idx]) < thread_hold):\n",
    "            img[img==idx] = 0\n",
    "\n",
    "    result = Image.fromarray(img.astype(np.uint8))\n",
    "    result.save(save_to_path + filename)"
   ]
  },
  {
   "cell_type": "code",
   "execution_count": 13,
   "metadata": {},
   "outputs": [
    {
     "name": "stderr",
     "output_type": "stream",
     "text": [
      "100%|██████████| 2338/2338 [01:57<00:00, 19.92it/s]\n"
     ]
    }
   ],
   "source": [
    "# rgb로 결과 확인하기\n",
    "final_res_path = './res/final_res/*.png'\n",
    "rgb_final_res_path = './res/final_rgb/'\n",
    "paths = glob.glob(final_res_path)\n",
    "for path in tqdm(paths):\n",
    "    filename = os.path.basename(path)\n",
    "    img = np.array(Image.open(path))\n",
    "    img_dim_2 = img\n",
    "    img = np.expand_dims(img_dim_2,axis=0)\n",
    "    zeros = np.concatenate((np.zeros_like(img),np.zeros_like(img),np.zeros_like(img)),axis=0)\n",
    "    for i in range(3):\n",
    "        idx = i+1\n",
    "        zeros[i][img_dim_2==idx] = 255\n",
    "\n",
    "    res = np.transpose(zeros,(1,2,0))\n",
    "    res = Image.fromarray(res.astype(np.uint8))\n",
    "    res.save(rgb_final_res_path + filename)\n",
    "    "
   ]
  },
  {
   "cell_type": "code",
   "execution_count": null,
   "metadata": {},
   "outputs": [],
   "source": []
  }
 ],
 "metadata": {
  "kernelspec": {
   "display_name": "Python 3 (ipykernel)",
   "language": "python",
   "name": "python3"
  },
  "language_info": {
   "codemirror_mode": {
    "name": "ipython",
    "version": 3
   },
   "file_extension": ".py",
   "mimetype": "text/x-python",
   "name": "python",
   "nbconvert_exporter": "python",
   "pygments_lexer": "ipython3",
   "version": "3.9.12"
  },
  "vscode": {
   "interpreter": {
    "hash": "2d43848430008e369f5a714791f24c6de11b4db6e180ba1a106e1f88e4f10f04"
   }
  }
 },
 "nbformat": 4,
 "nbformat_minor": 4
}
